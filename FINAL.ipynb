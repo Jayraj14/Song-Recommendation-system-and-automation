{
 "cells": [
  {
   "cell_type": "markdown",
   "id": "75744a30",
   "metadata": {},
   "source": [
    "<span style=\"color:black\">IMPORTING MODULES</span>\n"
   ]
  },
  {
   "cell_type": "code",
   "execution_count": 1,
   "id": "28a9e51c",
   "metadata": {},
   "outputs": [],
   "source": [
    "import pandas as pd\n",
    "import numpy as np\n",
    "import Recommenders as skr"
   ]
  },
  {
   "cell_type": "code",
   "execution_count": 2,
   "id": "2c5b7020",
   "metadata": {},
   "outputs": [],
   "source": [
    "#pip install Recommenders"
   ]
  },
  {
   "cell_type": "markdown",
   "id": "f672b6ca",
   "metadata": {},
   "source": [
    "<span style=\"color:black\">LOADING DATASETS</span>"
   ]
  },
  {
   "cell_type": "code",
   "execution_count": 3,
   "id": "3e6000be",
   "metadata": {},
   "outputs": [
    {
     "name": "stderr",
     "output_type": "stream",
     "text": [
      "C:\\Users\\Deshmukh\\AppData\\Local\\Temp\\ipykernel_20916\\376988467.py:1: DtypeWarning: Columns (0,1) have mixed types. Specify dtype option on import or set low_memory=False.\n",
      "  song_df_1 = pd.read_csv(\"triplets_file.csv\")\n"
     ]
    },
    {
     "data": {
      "text/html": [
       "<div>\n",
       "<style scoped>\n",
       "    .dataframe tbody tr th:only-of-type {\n",
       "        vertical-align: middle;\n",
       "    }\n",
       "\n",
       "    .dataframe tbody tr th {\n",
       "        vertical-align: top;\n",
       "    }\n",
       "\n",
       "    .dataframe thead th {\n",
       "        text-align: right;\n",
       "    }\n",
       "</style>\n",
       "<table border=\"1\" class=\"dataframe\">\n",
       "  <thead>\n",
       "    <tr style=\"text-align: right;\">\n",
       "      <th></th>\n",
       "      <th>user_id</th>\n",
       "      <th>song_id</th>\n",
       "      <th>listen_count</th>\n",
       "    </tr>\n",
       "  </thead>\n",
       "  <tbody>\n",
       "    <tr>\n",
       "      <th>0</th>\n",
       "      <td>b80344d063b5ccb3212f76538f3d9e43d87dca9e</td>\n",
       "      <td>SOAKIMP12A8C130995</td>\n",
       "      <td>4.0</td>\n",
       "    </tr>\n",
       "    <tr>\n",
       "      <th>1</th>\n",
       "      <td>b80344d063b5ccb3212f76538f3d9e43d87dca9e</td>\n",
       "      <td>SOBBMDR12A8C13253B</td>\n",
       "      <td>5.0</td>\n",
       "    </tr>\n",
       "    <tr>\n",
       "      <th>2</th>\n",
       "      <td>b80344d063b5ccb3212f76538f3d9e43d87dca9e</td>\n",
       "      <td>SOBXHDL12A81C204C0</td>\n",
       "      <td>6.0</td>\n",
       "    </tr>\n",
       "    <tr>\n",
       "      <th>3</th>\n",
       "      <td>b80344d063b5ccb3212f76538f3d9e43d87dca9e</td>\n",
       "      <td>SOBYHAJ12A6701BF1D</td>\n",
       "      <td>7.0</td>\n",
       "    </tr>\n",
       "    <tr>\n",
       "      <th>4</th>\n",
       "      <td>b80344d063b5ccb3212f76538f3d9e43d87dca9e</td>\n",
       "      <td>SODACBL12A8C13C273</td>\n",
       "      <td>8.0</td>\n",
       "    </tr>\n",
       "  </tbody>\n",
       "</table>\n",
       "</div>"
      ],
      "text/plain": [
       "                                    user_id             song_id  listen_count\n",
       "0  b80344d063b5ccb3212f76538f3d9e43d87dca9e  SOAKIMP12A8C130995           4.0\n",
       "1  b80344d063b5ccb3212f76538f3d9e43d87dca9e  SOBBMDR12A8C13253B           5.0\n",
       "2  b80344d063b5ccb3212f76538f3d9e43d87dca9e  SOBXHDL12A81C204C0           6.0\n",
       "3  b80344d063b5ccb3212f76538f3d9e43d87dca9e  SOBYHAJ12A6701BF1D           7.0\n",
       "4  b80344d063b5ccb3212f76538f3d9e43d87dca9e  SODACBL12A8C13C273           8.0"
      ]
     },
     "execution_count": 3,
     "metadata": {},
     "output_type": "execute_result"
    }
   ],
   "source": [
    "song_df_1 = pd.read_csv(\"triplets_file.csv\")\n",
    "song_df_1.head()"
   ]
  },
  {
   "cell_type": "code",
   "execution_count": 4,
   "id": "9192672e",
   "metadata": {},
   "outputs": [
    {
     "data": {
      "text/html": [
       "<div>\n",
       "<style scoped>\n",
       "    .dataframe tbody tr th:only-of-type {\n",
       "        vertical-align: middle;\n",
       "    }\n",
       "\n",
       "    .dataframe tbody tr th {\n",
       "        vertical-align: top;\n",
       "    }\n",
       "\n",
       "    .dataframe thead th {\n",
       "        text-align: right;\n",
       "    }\n",
       "</style>\n",
       "<table border=\"1\" class=\"dataframe\">\n",
       "  <thead>\n",
       "    <tr style=\"text-align: right;\">\n",
       "      <th></th>\n",
       "      <th>Song</th>\n",
       "      <th>Performer</th>\n",
       "      <th>SongID</th>\n",
       "      <th>song_id</th>\n",
       "      <th>listen_count</th>\n",
       "    </tr>\n",
       "  </thead>\n",
       "  <tbody>\n",
       "    <tr>\n",
       "      <th>0</th>\n",
       "      <td>Don't Just Stand There</td>\n",
       "      <td>Patty Duke</td>\n",
       "      <td>Don't Just Stand TherePatty Duke</td>\n",
       "      <td>SOAKIMP12A8C130995</td>\n",
       "      <td>4</td>\n",
       "    </tr>\n",
       "    <tr>\n",
       "      <th>1</th>\n",
       "      <td>Don't Just Stand There</td>\n",
       "      <td>Patty Duke</td>\n",
       "      <td>Don't Just Stand TherePatty Duke</td>\n",
       "      <td>SOBBMDR12A8C13253B</td>\n",
       "      <td>5</td>\n",
       "    </tr>\n",
       "    <tr>\n",
       "      <th>2</th>\n",
       "      <td>Don't Just Stand There</td>\n",
       "      <td>Patty Duke</td>\n",
       "      <td>Don't Just Stand TherePatty Duke</td>\n",
       "      <td>SOBXHDL12A81C204C0</td>\n",
       "      <td>6</td>\n",
       "    </tr>\n",
       "    <tr>\n",
       "      <th>3</th>\n",
       "      <td>Don't Just Stand There</td>\n",
       "      <td>Patty Duke</td>\n",
       "      <td>Don't Just Stand TherePatty Duke</td>\n",
       "      <td>SOBYHAJ12A6701BF1D</td>\n",
       "      <td>7</td>\n",
       "    </tr>\n",
       "    <tr>\n",
       "      <th>4</th>\n",
       "      <td>Don't Just Stand There</td>\n",
       "      <td>Patty Duke</td>\n",
       "      <td>Don't Just Stand TherePatty Duke</td>\n",
       "      <td>SODACBL12A8C13C273</td>\n",
       "      <td>8</td>\n",
       "    </tr>\n",
       "  </tbody>\n",
       "</table>\n",
       "</div>"
      ],
      "text/plain": [
       "                     Song   Performer                            SongID  \\\n",
       "0  Don't Just Stand There  Patty Duke  Don't Just Stand TherePatty Duke   \n",
       "1  Don't Just Stand There  Patty Duke  Don't Just Stand TherePatty Duke   \n",
       "2  Don't Just Stand There  Patty Duke  Don't Just Stand TherePatty Duke   \n",
       "3  Don't Just Stand There  Patty Duke  Don't Just Stand TherePatty Duke   \n",
       "4  Don't Just Stand There  Patty Duke  Don't Just Stand TherePatty Duke   \n",
       "\n",
       "              song_id  listen_count  \n",
       "0  SOAKIMP12A8C130995             4  \n",
       "1  SOBBMDR12A8C13253B             5  \n",
       "2  SOBXHDL12A81C204C0             6  \n",
       "3  SOBYHAJ12A6701BF1D             7  \n",
       "4  SODACBL12A8C13C273             8  "
      ]
     },
     "execution_count": 4,
     "metadata": {},
     "output_type": "execute_result"
    }
   ],
   "source": [
    "song_df_2 = pd.read_csv(\"Hot Stuff.csv\")\n",
    "song_df_2.head()"
   ]
  },
  {
   "cell_type": "code",
   "execution_count": 5,
   "id": "fe4f381d",
   "metadata": {},
   "outputs": [
    {
     "data": {
      "text/html": [
       "<div>\n",
       "<style scoped>\n",
       "    .dataframe tbody tr th:only-of-type {\n",
       "        vertical-align: middle;\n",
       "    }\n",
       "\n",
       "    .dataframe tbody tr th {\n",
       "        vertical-align: top;\n",
       "    }\n",
       "\n",
       "    .dataframe thead th {\n",
       "        text-align: right;\n",
       "    }\n",
       "</style>\n",
       "<table border=\"1\" class=\"dataframe\">\n",
       "  <thead>\n",
       "    <tr style=\"text-align: right;\">\n",
       "      <th></th>\n",
       "      <th>user_id</th>\n",
       "      <th>song_id</th>\n",
       "      <th>listen_count_x</th>\n",
       "      <th>Song</th>\n",
       "      <th>Performer</th>\n",
       "      <th>SongID</th>\n",
       "      <th>listen_count_y</th>\n",
       "    </tr>\n",
       "  </thead>\n",
       "  <tbody>\n",
       "    <tr>\n",
       "      <th>0</th>\n",
       "      <td>b80344d063b5ccb3212f76538f3d9e43d87dca9e</td>\n",
       "      <td>SOAKIMP12A8C130995</td>\n",
       "      <td>4.0</td>\n",
       "      <td>Don't Just Stand There</td>\n",
       "      <td>Patty Duke</td>\n",
       "      <td>Don't Just Stand TherePatty Duke</td>\n",
       "      <td>4.0</td>\n",
       "    </tr>\n",
       "    <tr>\n",
       "      <th>1</th>\n",
       "      <td>b80344d063b5ccb3212f76538f3d9e43d87dca9e</td>\n",
       "      <td>SOBBMDR12A8C13253B</td>\n",
       "      <td>5.0</td>\n",
       "      <td>Don't Just Stand There</td>\n",
       "      <td>Patty Duke</td>\n",
       "      <td>Don't Just Stand TherePatty Duke</td>\n",
       "      <td>5.0</td>\n",
       "    </tr>\n",
       "    <tr>\n",
       "      <th>2</th>\n",
       "      <td>b80344d063b5ccb3212f76538f3d9e43d87dca9e</td>\n",
       "      <td>SOBXHDL12A81C204C0</td>\n",
       "      <td>6.0</td>\n",
       "      <td>Don't Just Stand There</td>\n",
       "      <td>Patty Duke</td>\n",
       "      <td>Don't Just Stand TherePatty Duke</td>\n",
       "      <td>6.0</td>\n",
       "    </tr>\n",
       "    <tr>\n",
       "      <th>3</th>\n",
       "      <td>b80344d063b5ccb3212f76538f3d9e43d87dca9e</td>\n",
       "      <td>SOBYHAJ12A6701BF1D</td>\n",
       "      <td>7.0</td>\n",
       "      <td>Don't Just Stand There</td>\n",
       "      <td>Patty Duke</td>\n",
       "      <td>Don't Just Stand TherePatty Duke</td>\n",
       "      <td>7.0</td>\n",
       "    </tr>\n",
       "    <tr>\n",
       "      <th>4</th>\n",
       "      <td>b80344d063b5ccb3212f76538f3d9e43d87dca9e</td>\n",
       "      <td>SODACBL12A8C13C273</td>\n",
       "      <td>8.0</td>\n",
       "      <td>Don't Just Stand There</td>\n",
       "      <td>Patty Duke</td>\n",
       "      <td>Don't Just Stand TherePatty Duke</td>\n",
       "      <td>8.0</td>\n",
       "    </tr>\n",
       "  </tbody>\n",
       "</table>\n",
       "</div>"
      ],
      "text/plain": [
       "                                    user_id             song_id  \\\n",
       "0  b80344d063b5ccb3212f76538f3d9e43d87dca9e  SOAKIMP12A8C130995   \n",
       "1  b80344d063b5ccb3212f76538f3d9e43d87dca9e  SOBBMDR12A8C13253B   \n",
       "2  b80344d063b5ccb3212f76538f3d9e43d87dca9e  SOBXHDL12A81C204C0   \n",
       "3  b80344d063b5ccb3212f76538f3d9e43d87dca9e  SOBYHAJ12A6701BF1D   \n",
       "4  b80344d063b5ccb3212f76538f3d9e43d87dca9e  SODACBL12A8C13C273   \n",
       "\n",
       "   listen_count_x                    Song   Performer  \\\n",
       "0             4.0  Don't Just Stand There  Patty Duke   \n",
       "1             5.0  Don't Just Stand There  Patty Duke   \n",
       "2             6.0  Don't Just Stand There  Patty Duke   \n",
       "3             7.0  Don't Just Stand There  Patty Duke   \n",
       "4             8.0  Don't Just Stand There  Patty Duke   \n",
       "\n",
       "                             SongID  listen_count_y  \n",
       "0  Don't Just Stand TherePatty Duke             4.0  \n",
       "1  Don't Just Stand TherePatty Duke             5.0  \n",
       "2  Don't Just Stand TherePatty Duke             6.0  \n",
       "3  Don't Just Stand TherePatty Duke             7.0  \n",
       "4  Don't Just Stand TherePatty Duke             8.0  "
      ]
     },
     "execution_count": 5,
     "metadata": {},
     "output_type": "execute_result"
    }
   ],
   "source": [
    "#combine both data\n",
    "song_df = pd.merge(song_df_1, song_df_2.drop_duplicates(['song_id']), on='song_id', how='left')\n",
    "song_df.head()"
   ]
  },
  {
   "cell_type": "code",
   "execution_count": 6,
   "id": "20f99fa2",
   "metadata": {},
   "outputs": [
    {
     "data": {
      "text/plain": [
       "1047475"
      ]
     },
     "execution_count": 6,
     "metadata": {},
     "output_type": "execute_result"
    }
   ],
   "source": [
    "len(song_df)"
   ]
  },
  {
   "cell_type": "code",
   "execution_count": 7,
   "id": "e23477e6",
   "metadata": {},
   "outputs": [
    {
     "name": "stdout",
     "output_type": "stream",
     "text": [
      "1047475 327895\n"
     ]
    }
   ],
   "source": [
    "print(len(song_df_1), len(song_df_2))"
   ]
  },
  {
   "cell_type": "markdown",
   "id": "b35c1812",
   "metadata": {},
   "source": [
    "<span style=\"color:black\">DATA PREPROCESSING</span>"
   ]
  },
  {
   "cell_type": "code",
   "execution_count": 8,
   "id": "b4d00d43",
   "metadata": {},
   "outputs": [
    {
     "data": {
      "text/html": [
       "<div>\n",
       "<style scoped>\n",
       "    .dataframe tbody tr th:only-of-type {\n",
       "        vertical-align: middle;\n",
       "    }\n",
       "\n",
       "    .dataframe tbody tr th {\n",
       "        vertical-align: top;\n",
       "    }\n",
       "\n",
       "    .dataframe thead th {\n",
       "        text-align: right;\n",
       "    }\n",
       "</style>\n",
       "<table border=\"1\" class=\"dataframe\">\n",
       "  <thead>\n",
       "    <tr style=\"text-align: right;\">\n",
       "      <th></th>\n",
       "      <th>user_id</th>\n",
       "      <th>song_id</th>\n",
       "      <th>listen_count_x</th>\n",
       "      <th>Song</th>\n",
       "      <th>Performer</th>\n",
       "      <th>SongID</th>\n",
       "      <th>listen_count_y</th>\n",
       "    </tr>\n",
       "  </thead>\n",
       "  <tbody>\n",
       "    <tr>\n",
       "      <th>0</th>\n",
       "      <td>b80344d063b5ccb3212f76538f3d9e43d87dca9e</td>\n",
       "      <td>SOAKIMP12A8C130995</td>\n",
       "      <td>4.0</td>\n",
       "      <td>Don't Just Stand There - Patty Duke</td>\n",
       "      <td>Patty Duke</td>\n",
       "      <td>Don't Just Stand TherePatty Duke</td>\n",
       "      <td>4.0</td>\n",
       "    </tr>\n",
       "    <tr>\n",
       "      <th>1</th>\n",
       "      <td>b80344d063b5ccb3212f76538f3d9e43d87dca9e</td>\n",
       "      <td>SOBBMDR12A8C13253B</td>\n",
       "      <td>5.0</td>\n",
       "      <td>Don't Just Stand There - Patty Duke</td>\n",
       "      <td>Patty Duke</td>\n",
       "      <td>Don't Just Stand TherePatty Duke</td>\n",
       "      <td>5.0</td>\n",
       "    </tr>\n",
       "    <tr>\n",
       "      <th>2</th>\n",
       "      <td>b80344d063b5ccb3212f76538f3d9e43d87dca9e</td>\n",
       "      <td>SOBXHDL12A81C204C0</td>\n",
       "      <td>6.0</td>\n",
       "      <td>Don't Just Stand There - Patty Duke</td>\n",
       "      <td>Patty Duke</td>\n",
       "      <td>Don't Just Stand TherePatty Duke</td>\n",
       "      <td>6.0</td>\n",
       "    </tr>\n",
       "    <tr>\n",
       "      <th>3</th>\n",
       "      <td>b80344d063b5ccb3212f76538f3d9e43d87dca9e</td>\n",
       "      <td>SOBYHAJ12A6701BF1D</td>\n",
       "      <td>7.0</td>\n",
       "      <td>Don't Just Stand There - Patty Duke</td>\n",
       "      <td>Patty Duke</td>\n",
       "      <td>Don't Just Stand TherePatty Duke</td>\n",
       "      <td>7.0</td>\n",
       "    </tr>\n",
       "    <tr>\n",
       "      <th>4</th>\n",
       "      <td>b80344d063b5ccb3212f76538f3d9e43d87dca9e</td>\n",
       "      <td>SODACBL12A8C13C273</td>\n",
       "      <td>8.0</td>\n",
       "      <td>Don't Just Stand There - Patty Duke</td>\n",
       "      <td>Patty Duke</td>\n",
       "      <td>Don't Just Stand TherePatty Duke</td>\n",
       "      <td>8.0</td>\n",
       "    </tr>\n",
       "  </tbody>\n",
       "</table>\n",
       "</div>"
      ],
      "text/plain": [
       "                                    user_id             song_id  \\\n",
       "0  b80344d063b5ccb3212f76538f3d9e43d87dca9e  SOAKIMP12A8C130995   \n",
       "1  b80344d063b5ccb3212f76538f3d9e43d87dca9e  SOBBMDR12A8C13253B   \n",
       "2  b80344d063b5ccb3212f76538f3d9e43d87dca9e  SOBXHDL12A81C204C0   \n",
       "3  b80344d063b5ccb3212f76538f3d9e43d87dca9e  SOBYHAJ12A6701BF1D   \n",
       "4  b80344d063b5ccb3212f76538f3d9e43d87dca9e  SODACBL12A8C13C273   \n",
       "\n",
       "   listen_count_x                                 Song   Performer  \\\n",
       "0             4.0  Don't Just Stand There - Patty Duke  Patty Duke   \n",
       "1             5.0  Don't Just Stand There - Patty Duke  Patty Duke   \n",
       "2             6.0  Don't Just Stand There - Patty Duke  Patty Duke   \n",
       "3             7.0  Don't Just Stand There - Patty Duke  Patty Duke   \n",
       "4             8.0  Don't Just Stand There - Patty Duke  Patty Duke   \n",
       "\n",
       "                             SongID  listen_count_y  \n",
       "0  Don't Just Stand TherePatty Duke             4.0  \n",
       "1  Don't Just Stand TherePatty Duke             5.0  \n",
       "2  Don't Just Stand TherePatty Duke             6.0  \n",
       "3  Don't Just Stand TherePatty Duke             7.0  \n",
       "4  Don't Just Stand TherePatty Duke             8.0  "
      ]
     },
     "execution_count": 8,
     "metadata": {},
     "output_type": "execute_result"
    }
   ],
   "source": [
    "#creating new feature and combining title and artist name\n",
    "song_df['Song'] = song_df['Song']+' - '+song_df['Performer']\n",
    "song_df.head()"
   ]
  },
  {
   "cell_type": "code",
   "execution_count": 9,
   "id": "aabbf872",
   "metadata": {},
   "outputs": [],
   "source": [
    "song_df = song_df.head(32789)"
   ]
  },
  {
   "cell_type": "code",
   "execution_count": 10,
   "id": "a3c7137b",
   "metadata": {},
   "outputs": [
    {
     "data": {
      "text/html": [
       "<div>\n",
       "<style scoped>\n",
       "    .dataframe tbody tr th:only-of-type {\n",
       "        vertical-align: middle;\n",
       "    }\n",
       "\n",
       "    .dataframe tbody tr th {\n",
       "        vertical-align: top;\n",
       "    }\n",
       "\n",
       "    .dataframe thead th {\n",
       "        text-align: right;\n",
       "    }\n",
       "</style>\n",
       "<table border=\"1\" class=\"dataframe\">\n",
       "  <thead>\n",
       "    <tr style=\"text-align: right;\">\n",
       "      <th></th>\n",
       "      <th>Song</th>\n",
       "      <th>listen_count_x</th>\n",
       "    </tr>\n",
       "  </thead>\n",
       "  <tbody>\n",
       "    <tr>\n",
       "      <th>0</th>\n",
       "      <td>\"Joy\" Pt. I - Isaac Hayes</td>\n",
       "      <td>3</td>\n",
       "    </tr>\n",
       "    <tr>\n",
       "      <th>1</th>\n",
       "      <td>\"Yep!\" - Duane Eddy His Twangy Guitar And The ...</td>\n",
       "      <td>1</td>\n",
       "    </tr>\n",
       "    <tr>\n",
       "      <th>2</th>\n",
       "      <td>#1 - Nelly</td>\n",
       "      <td>5</td>\n",
       "    </tr>\n",
       "    <tr>\n",
       "      <th>3</th>\n",
       "      <td>#9 Dream - John Lennon</td>\n",
       "      <td>4</td>\n",
       "    </tr>\n",
       "    <tr>\n",
       "      <th>4</th>\n",
       "      <td>#Beautiful - Mariah Carey Featuring Miguel</td>\n",
       "      <td>4</td>\n",
       "    </tr>\n",
       "  </tbody>\n",
       "</table>\n",
       "</div>"
      ],
      "text/plain": [
       "                                                Song  listen_count_x\n",
       "0                          \"Joy\" Pt. I - Isaac Hayes               3\n",
       "1  \"Yep!\" - Duane Eddy His Twangy Guitar And The ...               1\n",
       "2                                         #1 - Nelly               5\n",
       "3                             #9 Dream - John Lennon               4\n",
       "4         #Beautiful - Mariah Carey Featuring Miguel               4"
      ]
     },
     "execution_count": 10,
     "metadata": {},
     "output_type": "execute_result"
    }
   ],
   "source": [
    "# cumulative sum of listen counts\n",
    "song_grouped = song_df.groupby(['Song']).agg({'listen_count_x': 'count'}).reset_index()\n",
    "song_grouped.head()"
   ]
  },
  {
   "cell_type": "code",
   "execution_count": 11,
   "id": "5402eaa0",
   "metadata": {},
   "outputs": [
    {
     "data": {
      "text/html": [
       "<div>\n",
       "<style scoped>\n",
       "    .dataframe tbody tr th:only-of-type {\n",
       "        vertical-align: middle;\n",
       "    }\n",
       "\n",
       "    .dataframe tbody tr th {\n",
       "        vertical-align: top;\n",
       "    }\n",
       "\n",
       "    .dataframe thead th {\n",
       "        text-align: right;\n",
       "    }\n",
       "</style>\n",
       "<table border=\"1\" class=\"dataframe\">\n",
       "  <thead>\n",
       "    <tr style=\"text-align: right;\">\n",
       "      <th></th>\n",
       "      <th>Song</th>\n",
       "      <th>listen_count_x</th>\n",
       "      <th>percentage</th>\n",
       "    </tr>\n",
       "  </thead>\n",
       "  <tbody>\n",
       "    <tr>\n",
       "      <th>2349</th>\n",
       "      <td>Don't Know Why - Norah Jones</td>\n",
       "      <td>1233</td>\n",
       "      <td>3.760407</td>\n",
       "    </tr>\n",
       "    <tr>\n",
       "      <th>2377</th>\n",
       "      <td>Don't Let Me Down - The Chainsmokers Featuring...</td>\n",
       "      <td>383</td>\n",
       "      <td>1.168075</td>\n",
       "    </tr>\n",
       "    <tr>\n",
       "      <th>2348</th>\n",
       "      <td>Don't Know What You Got (Till It's Gone) - Cin...</td>\n",
       "      <td>329</td>\n",
       "      <td>1.003385</td>\n",
       "    </tr>\n",
       "    <tr>\n",
       "      <th>2355</th>\n",
       "      <td>Don't Let Go (Love) - En Vogue</td>\n",
       "      <td>238</td>\n",
       "      <td>0.725853</td>\n",
       "    </tr>\n",
       "    <tr>\n",
       "      <th>2350</th>\n",
       "      <td>Don't Laugh At Me - Mark Wills</td>\n",
       "      <td>186</td>\n",
       "      <td>0.567263</td>\n",
       "    </tr>\n",
       "    <tr>\n",
       "      <th>...</th>\n",
       "      <td>...</td>\n",
       "      <td>...</td>\n",
       "      <td>...</td>\n",
       "    </tr>\n",
       "    <tr>\n",
       "      <th>6206</th>\n",
       "      <td>The Millionaire - Dr. Hook</td>\n",
       "      <td>1</td>\n",
       "      <td>0.003050</td>\n",
       "    </tr>\n",
       "    <tr>\n",
       "      <th>6209</th>\n",
       "      <td>The Moment I Knew - Taylor Swift</td>\n",
       "      <td>1</td>\n",
       "      <td>0.003050</td>\n",
       "    </tr>\n",
       "    <tr>\n",
       "      <th>6216</th>\n",
       "      <td>The Most Beautiful Girl In The World - Prince</td>\n",
       "      <td>1</td>\n",
       "      <td>0.003050</td>\n",
       "    </tr>\n",
       "    <tr>\n",
       "      <th>6217</th>\n",
       "      <td>The Most Beautiful Words - Della Reese</td>\n",
       "      <td>1</td>\n",
       "      <td>0.003050</td>\n",
       "    </tr>\n",
       "    <tr>\n",
       "      <th>6223</th>\n",
       "      <td>everything i wanted - Billie Eilish</td>\n",
       "      <td>1</td>\n",
       "      <td>0.003050</td>\n",
       "    </tr>\n",
       "  </tbody>\n",
       "</table>\n",
       "<p>6229 rows × 3 columns</p>\n",
       "</div>"
      ],
      "text/plain": [
       "                                                   Song  listen_count_x  \\\n",
       "2349                       Don't Know Why - Norah Jones            1233   \n",
       "2377  Don't Let Me Down - The Chainsmokers Featuring...             383   \n",
       "2348  Don't Know What You Got (Till It's Gone) - Cin...             329   \n",
       "2355                     Don't Let Go (Love) - En Vogue             238   \n",
       "2350                     Don't Laugh At Me - Mark Wills             186   \n",
       "...                                                 ...             ...   \n",
       "6206                         The Millionaire - Dr. Hook               1   \n",
       "6209                   The Moment I Knew - Taylor Swift               1   \n",
       "6216      The Most Beautiful Girl In The World - Prince               1   \n",
       "6217             The Most Beautiful Words - Della Reese               1   \n",
       "6223                everything i wanted - Billie Eilish               1   \n",
       "\n",
       "      percentage  \n",
       "2349    3.760407  \n",
       "2377    1.168075  \n",
       "2348    1.003385  \n",
       "2355    0.725853  \n",
       "2350    0.567263  \n",
       "...          ...  \n",
       "6206    0.003050  \n",
       "6209    0.003050  \n",
       "6216    0.003050  \n",
       "6217    0.003050  \n",
       "6223    0.003050  \n",
       "\n",
       "[6229 rows x 3 columns]"
      ]
     },
     "execution_count": 11,
     "metadata": {},
     "output_type": "execute_result"
    }
   ],
   "source": [
    "grouped_sum = song_grouped['listen_count_x'].sum()\n",
    "song_grouped['percentage'] = (song_grouped['listen_count_x']/ grouped_sum) * 100\n",
    "song_grouped.sort_values(['listen_count_x', 'Song'], ascending=[0,1])"
   ]
  },
  {
   "cell_type": "markdown",
   "id": "d4de0d1a",
   "metadata": {},
   "source": [
    "<span style=\"color:black\">POPULARITY RECOMMENDATION ENGINE</span>"
   ]
  },
  {
   "cell_type": "code",
   "execution_count": 12,
   "id": "b1efd91b",
   "metadata": {
    "scrolled": true
   },
   "outputs": [],
   "source": [
    "# content based filtering\n",
    "pr = skr.popularity_recommender_py()\n"
   ]
  },
  {
   "cell_type": "code",
   "execution_count": 13,
   "id": "46a13c96",
   "metadata": {},
   "outputs": [],
   "source": [
    "pr.create(song_df,'user_id', 'Song')"
   ]
  },
  {
   "cell_type": "code",
   "execution_count": 14,
   "id": "b53a69b4",
   "metadata": {},
   "outputs": [],
   "source": [
    "#display the top 10 popular songs\n",
    "#pr.recommend(song_df['user_id'][45])"
   ]
  },
  {
   "cell_type": "code",
   "execution_count": 15,
   "id": "47bd960f",
   "metadata": {},
   "outputs": [],
   "source": [
    "#pr.recommend(song_df['user_id'])"
   ]
  },
  {
   "cell_type": "markdown",
   "id": "6d7f06c2",
   "metadata": {},
   "source": [
    "<span style=\"color:black\">ITEM SIMILARITY RECOMMENDATION</span>"
   ]
  },
  {
   "cell_type": "code",
   "execution_count": 16,
   "id": "506d064e",
   "metadata": {},
   "outputs": [],
   "source": [
    "ir = skr.item_similarity_recommender_py()\n",
    "ir.create(song_df,'user_id','Song')"
   ]
  },
  {
   "cell_type": "code",
   "execution_count": 17,
   "id": "75270a45",
   "metadata": {},
   "outputs": [],
   "source": [
    "user_items = ir.get_user_items(song_df['user_id'][50])"
   ]
  },
  {
   "cell_type": "code",
   "execution_count": 18,
   "id": "4042c340",
   "metadata": {},
   "outputs": [
    {
     "name": "stdout",
     "output_type": "stream",
     "text": [
      "Don't Know Much - Linda Ronstadt (Featuring Aaron Neville)\n"
     ]
    }
   ],
   "source": [
    "#display user song history\n",
    "for user_item in user_items:\n",
    "    print(user_item)"
   ]
  },
  {
   "cell_type": "code",
   "execution_count": 19,
   "id": "e5c5b4a1",
   "metadata": {},
   "outputs": [
    {
     "name": "stdout",
     "output_type": "stream",
     "text": [
      "No. of unique songs for the user: 290\n",
      "no. of unique songs in the training set: 6229\n",
      "Non zero values in cooccurence_matrix :201494\n"
     ]
    },
    {
     "data": {
      "text/html": [
       "<div>\n",
       "<style scoped>\n",
       "    .dataframe tbody tr th:only-of-type {\n",
       "        vertical-align: middle;\n",
       "    }\n",
       "\n",
       "    .dataframe tbody tr th {\n",
       "        vertical-align: top;\n",
       "    }\n",
       "\n",
       "    .dataframe thead th {\n",
       "        text-align: right;\n",
       "    }\n",
       "</style>\n",
       "<table border=\"1\" class=\"dataframe\">\n",
       "  <thead>\n",
       "    <tr style=\"text-align: right;\">\n",
       "      <th></th>\n",
       "      <th>user_id</th>\n",
       "      <th>song</th>\n",
       "      <th>score</th>\n",
       "      <th>rank</th>\n",
       "    </tr>\n",
       "  </thead>\n",
       "  <tbody>\n",
       "    <tr>\n",
       "      <th>0</th>\n",
       "      <td>5a905f000fc1ff3df7ca807d57edb608863db05d</td>\n",
       "      <td>As Tears Go By - Marianne Faithfull</td>\n",
       "      <td>0.064113</td>\n",
       "      <td>1</td>\n",
       "    </tr>\n",
       "    <tr>\n",
       "      <th>1</th>\n",
       "      <td>5a905f000fc1ff3df7ca807d57edb608863db05d</td>\n",
       "      <td>Crazy - Aerosmith</td>\n",
       "      <td>0.052101</td>\n",
       "      <td>2</td>\n",
       "    </tr>\n",
       "    <tr>\n",
       "      <th>2</th>\n",
       "      <td>5a905f000fc1ff3df7ca807d57edb608863db05d</td>\n",
       "      <td>Smuggler's Blues - Glenn Frey</td>\n",
       "      <td>0.047592</td>\n",
       "      <td>3</td>\n",
       "    </tr>\n",
       "    <tr>\n",
       "      <th>3</th>\n",
       "      <td>5a905f000fc1ff3df7ca807d57edb608863db05d</td>\n",
       "      <td>Come Over - Kenny Chesney</td>\n",
       "      <td>0.047521</td>\n",
       "      <td>4</td>\n",
       "    </tr>\n",
       "    <tr>\n",
       "      <th>4</th>\n",
       "      <td>5a905f000fc1ff3df7ca807d57edb608863db05d</td>\n",
       "      <td>Skin Tight - Ohio Players</td>\n",
       "      <td>0.046482</td>\n",
       "      <td>5</td>\n",
       "    </tr>\n",
       "    <tr>\n",
       "      <th>5</th>\n",
       "      <td>5a905f000fc1ff3df7ca807d57edb608863db05d</td>\n",
       "      <td>Carousel - Travis Scott</td>\n",
       "      <td>0.045148</td>\n",
       "      <td>6</td>\n",
       "    </tr>\n",
       "    <tr>\n",
       "      <th>6</th>\n",
       "      <td>5a905f000fc1ff3df7ca807d57edb608863db05d</td>\n",
       "      <td>Do You Wanna Make Love - Peter Mccann</td>\n",
       "      <td>0.044226</td>\n",
       "      <td>7</td>\n",
       "    </tr>\n",
       "    <tr>\n",
       "      <th>7</th>\n",
       "      <td>5a905f000fc1ff3df7ca807d57edb608863db05d</td>\n",
       "      <td>Tea For Two Cha Cha - The Tommy Dorsey Orchestra</td>\n",
       "      <td>0.044016</td>\n",
       "      <td>8</td>\n",
       "    </tr>\n",
       "    <tr>\n",
       "      <th>8</th>\n",
       "      <td>5a905f000fc1ff3df7ca807d57edb608863db05d</td>\n",
       "      <td>8 Out Of 10 - Drake</td>\n",
       "      <td>0.043717</td>\n",
       "      <td>9</td>\n",
       "    </tr>\n",
       "    <tr>\n",
       "      <th>9</th>\n",
       "      <td>5a905f000fc1ff3df7ca807d57edb608863db05d</td>\n",
       "      <td>Cupid - 112</td>\n",
       "      <td>0.043015</td>\n",
       "      <td>10</td>\n",
       "    </tr>\n",
       "  </tbody>\n",
       "</table>\n",
       "</div>"
      ],
      "text/plain": [
       "                                    user_id  \\\n",
       "0  5a905f000fc1ff3df7ca807d57edb608863db05d   \n",
       "1  5a905f000fc1ff3df7ca807d57edb608863db05d   \n",
       "2  5a905f000fc1ff3df7ca807d57edb608863db05d   \n",
       "3  5a905f000fc1ff3df7ca807d57edb608863db05d   \n",
       "4  5a905f000fc1ff3df7ca807d57edb608863db05d   \n",
       "5  5a905f000fc1ff3df7ca807d57edb608863db05d   \n",
       "6  5a905f000fc1ff3df7ca807d57edb608863db05d   \n",
       "7  5a905f000fc1ff3df7ca807d57edb608863db05d   \n",
       "8  5a905f000fc1ff3df7ca807d57edb608863db05d   \n",
       "9  5a905f000fc1ff3df7ca807d57edb608863db05d   \n",
       "\n",
       "                                               song     score  rank  \n",
       "0               As Tears Go By - Marianne Faithfull  0.064113     1  \n",
       "1                                 Crazy - Aerosmith  0.052101     2  \n",
       "2                     Smuggler's Blues - Glenn Frey  0.047592     3  \n",
       "3                         Come Over - Kenny Chesney  0.047521     4  \n",
       "4                         Skin Tight - Ohio Players  0.046482     5  \n",
       "5                           Carousel - Travis Scott  0.045148     6  \n",
       "6             Do You Wanna Make Love - Peter Mccann  0.044226     7  \n",
       "7  Tea For Two Cha Cha - The Tommy Dorsey Orchestra  0.044016     8  \n",
       "8                               8 Out Of 10 - Drake  0.043717     9  \n",
       "9                                       Cupid - 112  0.043015    10  "
      ]
     },
     "execution_count": 19,
     "metadata": {},
     "output_type": "execute_result"
    }
   ],
   "source": [
    "#give song recommendation for the user\n",
    "ir.recommend(song_df['user_id'][700])"
   ]
  },
  {
   "cell_type": "code",
   "execution_count": 20,
   "id": "ad97ad7a",
   "metadata": {},
   "outputs": [
    {
     "name": "stdout",
     "output_type": "stream",
     "text": [
      "Enter Your Choice Of Genre:\n",
      "1.Pop\n",
      "2.Romance\n",
      "3.Chill\n",
      "4.Blues\n",
      "5.Rock\n",
      "1\n"
     ]
    }
   ],
   "source": [
    "choice=int(input('''Enter Your Choice Of Genre:\n",
    "1.Pop\n",
    "2.Romance\n",
    "3.Chill\n",
    "4.Blues\n",
    "5.Rock\n",
    "'''))\n"
   ]
  },
  {
   "cell_type": "code",
   "execution_count": 21,
   "id": "9835d527",
   "metadata": {
    "scrolled": true
   },
   "outputs": [
    {
     "name": "stdout",
     "output_type": "stream",
     "text": [
      "no. of unique songs in the training set: 6229\n",
      "Non zero values in cooccurence_matrix :168\n",
      "  user_id                                               song     score  rank\n",
      "0                       Shallow - Lady Gaga & Bradley Cooper  0.185185     1\n",
      "1                                       The Jerk - The Larks  0.166667     2\n",
      "2                            Because Of Love - Janet Jackson  0.142857     3\n",
      "3                     Cut Her Off - KCamp Featuring 2 Chainz  0.125000     4\n",
      "4          Shake Your Body (Down To The Ground) - The Jac...  0.111111     5\n",
      "5                               A Fine Fine Day - Tony Carey  0.090909     6\n",
      "6                              Restless Heart - Peter Cetera  0.083333     7\n",
      "7                                  Second Avenue - Tim Moore  0.083333     8\n",
      "8                                    Dirty Deeds - Joan Jett  0.083333     9\n",
      "9                           Breaking The Habit - Linkin Park  0.083333    10\n"
     ]
    }
   ],
   "source": [
    "#Pop\n",
    "if (choice==1):\n",
    "        pl = ir.get_similar_items(['Die For Me - Post Malone Featuring Future & Halsey','Arms Around You - XXXTENTACION x Lil Pump Featuring Maluma & Swae Lee','Rap God - Eminem'])\n",
    "        print(pl)\n",
    "#Romance\n",
    "elif (choice==2):\n",
    "        pl = ir.get_similar_items(['Supermarket Flowers - Ed Sheeran','Senorita - Shawn Mendes & Camila Cabello','Call Out My Name - The Weeknd','Perfect - Ed Sheeran'])\n",
    "        print(pl)\n",
    "#Chill\n",
    "elif (choice==3):\n",
    "        pl = ir.get_similar_items(['Sugar - Maroon 5','Bad Guy - Billie Eilish'])\n",
    "        print(pl)\n",
    "#Blues\n",
    "elif (choice==4):\n",
    "        pl = ir.get_similar_items(['Let Her Go - Passenger','Be Alright - Dean Lewis','Slow Dancing In The Dark - Joji'])\n",
    "        print(pl)  \n",
    "#Rock\n",
    "elif (choice==5):\n",
    "        pl = ir.get_similar_items(['Sucker For Pain - Lil Wayne, Wiz Khalifa & Imagine Dragons With Logic & Ty Dolla $ign Feat. X Ambassadors','Rock With You - Michael Jackson'])\n",
    "        print(pl)\n",
    "else:\n",
    "    print(\"Incorrect Input\")"
   ]
  },
  {
   "cell_type": "code",
   "execution_count": 22,
   "id": "eb95f242",
   "metadata": {},
   "outputs": [],
   "source": [
    "#o=int(input(\"Enter Your Song Choice \"))"
   ]
  },
  {
   "cell_type": "code",
   "execution_count": 23,
   "id": "0d881703",
   "metadata": {},
   "outputs": [],
   "source": [
    "#print(pl.song[o])"
   ]
  },
  {
   "cell_type": "code",
   "execution_count": 24,
   "id": "24939468",
   "metadata": {
    "scrolled": true
   },
   "outputs": [],
   "source": [
    "#sp = pl.song[o]\n",
    "#sp[0]"
   ]
  },
  {
   "cell_type": "code",
   "execution_count": 25,
   "id": "d25d9e79",
   "metadata": {},
   "outputs": [
    {
     "name": "stdout",
     "output_type": "stream",
     "text": [
      "['2']\n",
      "Because Of Love - Janet Jackson\n"
     ]
    }
   ],
   "source": [
    "import tkinter as tk\n",
    "from tkinter import *\n",
    "import os \n",
    "import pyautogui\n",
    "import time\n",
    "\n",
    "canvas = tk.Tk()\n",
    "canvas.title(\"Music player\")\n",
    "canvas.config(bg='#e9dffc')\n",
    "\n",
    "\n",
    "label = tk.Label(canvas, text='DY PATIL UNIVERSITY', bg='#e7ddf9', font = ('Microsoft Sans Serif',14))\n",
    "label.pack()\n",
    "label = tk.Label(canvas, text='School of Engineering and technology', bg='#e7ddf9', font = ('Microsoft Sans Serif',14))\n",
    "label.pack()\n",
    "label = tk.Label(canvas, text='PROJECT TITLE: SONG RECOMMENDATION USING MACHINE LEARNING', bg='#e7ddf9', font = ('Microsoft Sans Serif',14))\n",
    "label.pack()\n",
    "label = tk.Label(canvas, text='Group Members: Jayraj Deshmukh, Sherzaman Khan, Nishtha Bhawnani', bg='#e7ddf9', font = ('Microsoft Sans Serif',14))\n",
    "label.pack()\n",
    "\n",
    "\n",
    "label = tk.Label(canvas, text='List of similar songs: ', bg='#e7ddf9', font = ('Microsoft Sans Serif',12))\n",
    "label.pack(padx = 10, pady = 10, side = TOP,anchor=\"w\")\n",
    "\n",
    "listBox = tk.Listbox(canvas, fg='black', bg='#f3eefc',width=100, font=('Candara', 14))\n",
    "listBox.pack(padx=15, pady=15)\n",
    "\n",
    "top = tk.Frame(canvas, bg='#2b007a')\n",
    "top.pack(padx=10, pady=5, anchor='center')\n",
    "\n",
    "for i in range (10):\n",
    "    wp = pl.song[i]\n",
    "    listBox.insert('end',wp)\n",
    "\n",
    "Label(canvas, text=\"Enter Song number to be played (0-9):\").pack()\n",
    "\n",
    "\n",
    "Fname = Entry(canvas)\n",
    "\n",
    "\n",
    "Fname.pack(pady=15,padx = 15)\n",
    "\n",
    "\n",
    "def getInput():\n",
    "\n",
    "    a = Fname.get()\n",
    "    canvas.destroy()\n",
    "\n",
    "    global params\n",
    "    params = [a]\n",
    "\n",
    "Button(canvas, text=\"submit\",\n",
    "       command=getInput,bg = '#894dfa').pack()\n",
    "\n",
    "canvas.mainloop()\n",
    "listBox.mainloop()\n",
    "print(params)\n",
    "string = \" \".join(params)\n",
    "convst = int(string)\n",
    "print(pl.song[convst])\n",
    "wp = pl.song[convst]\n",
    "\n",
    "os.startfile(r'C:\\Users\\Deshmukh\\AppData\\Roaming\\Microsoft\\Windows\\Start Menu\\Programs\\Spotify')\n",
    "time.sleep(7)\n",
    "pyautogui.hotkey('ctrl','l')\n",
    "pyautogui.write(wp, interval = 0.1)\n",
    "\n",
    "for key in ['enter', 'pagedown','tab', 'enter', 'enter']:\n",
    "    time.sleep(3)\n",
    "    pyautogui.press(key)\n",
    "\n",
    "    \n",
    "\n"
   ]
  },
  {
   "cell_type": "code",
   "execution_count": 26,
   "id": "c19454b5",
   "metadata": {},
   "outputs": [
    {
     "ename": "SyntaxError",
     "evalue": "(unicode error) 'unicodeescape' codec can't decode bytes in position 57-58: truncated \\UXXXXXXXX escape (231816207.py, line 13)",
     "output_type": "error",
     "traceback": [
      "\u001b[1;36m  Input \u001b[1;32mIn [26]\u001b[1;36m\u001b[0m\n\u001b[1;33m    '''\u001b[0m\n\u001b[1;37m       ^\u001b[0m\n\u001b[1;31mSyntaxError\u001b[0m\u001b[1;31m:\u001b[0m (unicode error) 'unicodeescape' codec can't decode bytes in position 57-58: truncated \\UXXXXXXXX escape\n"
     ]
    }
   ],
   "source": [
    "'''import pyautogui\n",
    "import os\n",
    "import time\n",
    "\n",
    "os.startfile(r'C:\\Users\\Deshmukh\\AppData\\Roaming\\Microsoft\\Windows\\Start Menu\\Programs\\Spotify')\n",
    "time.sleep(7)\n",
    "pyautogui.hotkey('ctrl','l')\n",
    "pyautogui.write(sp, interval = 0.1)\n",
    "\n",
    "for key in ['enter', 'pagedown','tab', 'enter', 'enter']:\n",
    "    time.sleep(3)\n",
    "    pyautogui.press(key)\n",
    "'''\n"
   ]
  },
  {
   "cell_type": "code",
   "execution_count": null,
   "id": "57d4627a",
   "metadata": {},
   "outputs": [],
   "source": [
    "\n"
   ]
  }
 ],
 "metadata": {
  "kernelspec": {
   "display_name": "Python 3 (ipykernel)",
   "language": "python",
   "name": "python3"
  },
  "language_info": {
   "codemirror_mode": {
    "name": "ipython",
    "version": 3
   },
   "file_extension": ".py",
   "mimetype": "text/x-python",
   "name": "python",
   "nbconvert_exporter": "python",
   "pygments_lexer": "ipython3",
   "version": "3.9.12"
  }
 },
 "nbformat": 4,
 "nbformat_minor": 5
}
